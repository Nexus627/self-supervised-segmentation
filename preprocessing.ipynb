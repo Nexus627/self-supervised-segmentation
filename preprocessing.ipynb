{
 "cells": [
  {
   "cell_type": "code",
   "execution_count": null,
   "metadata": {},
   "outputs": [],
   "source": [
    "from skimage import io, exposure, img_as_float\n",
    "from glob import glob\n",
    "import os\n",
    "import numpy as np\n",
    "from tqdm import tqdm"
   ]
  },
  {
   "cell_type": "code",
   "execution_count": null,
   "metadata": {},
   "outputs": [],
   "source": [
    "input_files = glob('raw_data/val/*/*')\n",
    "output_path = 'dataset/val'"
   ]
  },
  {
   "cell_type": "code",
   "execution_count": null,
   "metadata": {},
   "outputs": [],
   "source": [
    "os.makedirs(output_path, exist_ok=True)"
   ]
  },
  {
   "cell_type": "code",
   "execution_count": null,
   "metadata": {},
   "outputs": [],
   "source": [
    "max_vals = []\n",
    "min_vals = []\n",
    "for input_file in tqdm(input_files):\n",
    "    im = io.imread(input_file)\n",
    "    im_p = np.mean(im, axis=0)\n",
    "    max_vals.append(np.max(im_p))\n",
    "    min_vals.append(np.min(im_p))\n",
    "max_val = np.percentile(np.asarray(max_vals), 95)\n",
    "min_val = np.percentile(np.asarray(min_vals), 5)"
   ]
  },
  {
   "cell_type": "code",
   "execution_count": null,
   "metadata": {},
   "outputs": [],
   "source": [
    "for input_file in tqdm(input_files):\n",
    "    im = io.imread(input_file)\n",
    "    im_p = np.mean(im, axis=0)\n",
    "    im_p = exposure.rescale_intensity(img_as_float(im_p), in_range=(min_val, max_val), out_range=(0, 1))\n",
    "    im_name = '_'.join((input_file.split(os.sep)[-2], input_file.split(os.sep)[-1]))\n",
    "    save_name = os.path.join(output_path, im_name)\n",
    "    io.imsave(save_name, im_p)"
   ]
  }
 ],
 "metadata": {
  "interpreter": {
   "hash": "78f9103d5badd20146b89a838eb17adf7ff85840da7a22fcf740f0eb9bda6816"
  },
  "kernelspec": {
   "display_name": "Python 3 (ipykernel)",
   "language": "python",
   "name": "python3"
  },
  "language_info": {
   "codemirror_mode": {
    "name": "ipython",
    "version": 3
   },
   "file_extension": ".py",
   "mimetype": "text/x-python",
   "name": "python",
   "nbconvert_exporter": "python",
   "pygments_lexer": "ipython3",
   "version": "3.8.12"
  }
 },
 "nbformat": 4,
 "nbformat_minor": 2
}
